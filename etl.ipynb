{
 "cells": [
  {
   "cell_type": "code",
   "execution_count": null,
   "id": "56151fb6",
   "metadata": {},
   "outputs": [],
   "source": [
    "# Dependencies\n",
    "import pandas as pd\n",
    "import requests\n",
    "# from config import api_key\n",
    "from sqlalchemy import create_engine"
   ]
  },
  {
   "cell_type": "markdown",
   "id": "a55b4ccd",
   "metadata": {},
   "source": [
    "## Scrape Current Movie Poster Links"
   ]
  },
  {
   "cell_type": "markdown",
   "id": "e6032441",
   "metadata": {},
   "source": [
    "Note: Since the following loop runs for near an hour, this scrape code is in markdown.\n",
    "The dataset generated is saved to csv in Resources for working file."
   ]
  },
  {
   "cell_type": "code",
   "execution_count": null,
   "id": "d646227c",
   "metadata": {},
   "outputs": [],
   "source": [
    "# Link to metadata csv file to collect imdb ID\n",
    "# movies_metadata = \"Resources/movies_metadata.csv\"\n",
    "# metadata_df = pd.read_csv(movies_metadata, encoding=\"UTF-8\")"
   ]
  },
  {
   "cell_type": "code",
   "execution_count": null,
   "id": "cacd0e60",
   "metadata": {},
   "outputs": [],
   "source": [
    "# Collect dataset's movie IDs\n",
    "# imdb_id_all = metadata_df['imdb_id']"
   ]
  },
  {
   "cell_type": "code",
   "execution_count": null,
   "id": "ea4003d1",
   "metadata": {},
   "outputs": [],
   "source": [
    "# Create lists for final dataset\n",
    "# imdb_id = []\n",
    "# poster_link = []\n",
    "\n",
    "# Search source website for current movie poster links using IMDB ID\n",
    "# for movie in imdb_id_all:\n",
    "    \n",
    "#     try:    \n",
    "#         url = \"https://api.themoviedb.org/3/find/\" + movie + \"?api_key=\" + api_key + \"&language=en-US&external_source=imdb_id\"\n",
    "#         movie_data = requests.get(url, stream=True).json()\n",
    "        \n",
    "#         poster = movie_data['movie_results'][0]['poster_path']\n",
    "#         poster_link.append(\"https://image.tmdb.org/t/p/w600_and_h900_bestv2/\" + poster)\n",
    "#         imdb_id.append(movie)\n",
    "        \n",
    "#         print(f\"The poster link for movie ID {movie} is saved.\")\n",
    "                \n",
    "#     except:\n",
    "#         print(f\"No poster link available for {movie}.\")\n",
    "#         pass"
   ]
  },
  {
   "cell_type": "code",
   "execution_count": null,
   "id": "0d27ac06",
   "metadata": {},
   "outputs": [],
   "source": [
    "# Create dataframe to combine lists\n",
    "# poster_links = pd.DataFrame(\n",
    "#     {'imdb_id': imdb_id,\n",
    "#      'poster_link': poster_link\n",
    "#     })\n",
    "# poster_links"
   ]
  },
  {
   "cell_type": "code",
   "execution_count": null,
   "id": "790992da",
   "metadata": {},
   "outputs": [],
   "source": [
    "# Save dataframe as CSV\n",
    "# poster_links.to_csv(\"Resources/poster_links.csv\", index=False, header=True)"
   ]
  },
  {
   "cell_type": "code",
   "execution_count": null,
   "id": "0527cd37",
   "metadata": {},
   "outputs": [],
   "source": [
    "# Pull csv file generated from above code for working data\n",
    "poster_links_csv = \"Resources/poster_links.csv\"\n",
    "poster_links = pd.read_csv(poster_links_csv, encoding=\"UTF-8\")"
   ]
  },
  {
   "cell_type": "markdown",
   "id": "8dcf89c8",
   "metadata": {},
   "source": [
    "## Extract & Transform Metadata"
   ]
  },
  {
   "cell_type": "code",
   "execution_count": null,
   "id": "43221707",
   "metadata": {},
   "outputs": [],
   "source": [
    "# Store csv filepath in a variable\n",
    "movies_metadata = \"Resources/movies_metadata.csv\""
   ]
  },
  {
   "cell_type": "code",
   "execution_count": null,
   "id": "a42df24a",
   "metadata": {},
   "outputs": [],
   "source": [
    "# Read our Data file with the pandas library\n",
    "movies_metadata_df = pd.read_csv(movies_metadata, encoding=\"UTF-8\")"
   ]
  },
  {
   "cell_type": "code",
   "execution_count": null,
   "id": "c89b081a",
   "metadata": {
    "scrolled": true
   },
   "outputs": [],
   "source": [
    "# Show just the header\n",
    "movies_metadata_df.head()"
   ]
  },
  {
   "cell_type": "code",
   "execution_count": null,
   "id": "f3a48323",
   "metadata": {},
   "outputs": [],
   "source": [
    "metadata = movies_metadata_df[['imdb_id', \n",
    "                               'title', \n",
    "                               'genres', \n",
    "                               'original_language',\n",
    "                               'popularity', \n",
    "                               'production_countries', \n",
    "                               'release_date',\n",
    "                               'runtime', \n",
    "                               'status', \n",
    "                               'vote_average', \n",
    "                               'vote_count']]\n",
    "\n",
    "metadata = metadata.dropna(how='any')\n",
    "released_films = pd.DataFrame(metadata.loc[(metadata['genres']!='[]') & (metadata['production_countries']!='[]'), :])\n",
    "released_films"
   ]
  },
  {
   "cell_type": "markdown",
   "id": "df233583",
   "metadata": {},
   "source": [
    "## Merge Metadata Sets"
   ]
  },
  {
   "cell_type": "code",
   "execution_count": null,
   "id": "80972b4a",
   "metadata": {},
   "outputs": [],
   "source": [
    "metadata_complete = pd.merge(released_films, poster_links, on=['imdb_id'])\n",
    "metadata_complete.head()"
   ]
  },
  {
   "cell_type": "markdown",
   "id": "0cff127d",
   "metadata": {},
   "source": [
    "## Extract & Transform IMDB Title-Ratings TSV File"
   ]
  },
  {
   "cell_type": "code",
   "execution_count": null,
   "id": "f398695b",
   "metadata": {},
   "outputs": [],
   "source": [
    "# Link to source file and display head\n",
    "ratings_file = \"./Resources/title.ratings.tsv\"\n",
    "ratings_df = pd.read_csv(ratings_file, sep='\\t')\n",
    "ratings_df.head()"
   ]
  },
  {
   "cell_type": "code",
   "execution_count": null,
   "id": "22b958f0",
   "metadata": {},
   "outputs": [],
   "source": [
    "# Rename the column headers\n",
    "ratings_cols = ratings_df.rename(columns={\"tconst\": \"imdb_id\", \n",
    "                                          \"averageRating\": \"avg_rating\", \n",
    "                                          \"numVotes\": \"num_votes\"})"
   ]
  },
  {
   "cell_type": "code",
   "execution_count": null,
   "id": "ca989afc",
   "metadata": {},
   "outputs": [],
   "source": [
    "# Clean the data by dropping duplicates and setting the index\n",
    "ratings_cols.drop_duplicates(\"imdb_id\", inplace=True)\n",
    "ratings_cols.set_index(\"imdb_id\", inplace=True)\n",
    "ratings_cols.dropna(how='any')"
   ]
  },
  {
   "cell_type": "markdown",
   "id": "309dab86",
   "metadata": {},
   "source": [
    "## Creating Database Connection"
   ]
  },
  {
   "cell_type": "code",
   "execution_count": null,
   "id": "0ec05b8c",
   "metadata": {},
   "outputs": [],
   "source": [
    "# create db connection\n",
    "connection_string = \"postgres:postgres@localhost:5432/cinophiles\"\n",
    "engine = create_engine(f'postgresql://{connection_string}')"
   ]
  },
  {
   "cell_type": "code",
   "execution_count": null,
   "id": "02e093f4",
   "metadata": {},
   "outputs": [],
   "source": [
    "# confirm table names\n",
    "engine.table_names()"
   ]
  },
  {
   "cell_type": "markdown",
   "id": "c54cdfce",
   "metadata": {},
   "source": [
    "## Load df into DB "
   ]
  },
  {
   "cell_type": "code",
   "execution_count": null,
   "id": "f37d399f",
   "metadata": {},
   "outputs": [],
   "source": [
    "metadata_complete.to_sql(name='TMDB', con=engine, if_exists='append', index=True)\n",
    "ratings_cols.to_sql(name='IMDB_ratings', con=engine, if_exists='append', index=True)"
   ]
  }
 ],
 "metadata": {
  "kernelspec": {
   "display_name": "Python [conda env:PythonData38] *",
   "language": "python",
   "name": "conda-env-PythonData38-py"
  },
  "language_info": {
   "codemirror_mode": {
    "name": "ipython",
    "version": 3
   },
   "file_extension": ".py",
   "mimetype": "text/x-python",
   "name": "python",
   "nbconvert_exporter": "python",
   "pygments_lexer": "ipython3",
   "version": "3.8.12"
  }
 },
 "nbformat": 4,
 "nbformat_minor": 5
}
