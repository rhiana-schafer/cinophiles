{
 "cells": [
  {
   "cell_type": "code",
   "execution_count": null,
   "id": "8c2cf10b",
   "metadata": {},
   "outputs": [],
   "source": [
    "import pandas as pd\n",
    "from sqlalchemy import create_engine"
   ]
  },
  {
   "cell_type": "markdown",
   "id": "4f5b9c5d",
   "metadata": {},
   "source": [
    "Extract TSVs into DataFrames"
   ]
  },
  {
   "cell_type": "code",
   "execution_count": null,
   "id": "466bb069",
   "metadata": {},
   "outputs": [],
   "source": [
    "ratings_file = \"./Resources/title.ratings.tsv\"\n",
    "ratings_df = pd.read_csv(ratings_file, sep='\\t')\n",
    "ratings_df.head()"
   ]
  },
  {
   "cell_type": "markdown",
   "id": "a48e1aaa",
   "metadata": {},
   "source": [
    "Transform ratings DataFrame"
   ]
  },
  {
   "cell_type": "code",
   "execution_count": null,
   "id": "51a37cf0",
   "metadata": {},
   "outputs": [],
   "source": [
    "# Rename the column headers\n",
    "ratings_cols = ratings_df.rename(columns={\"tconst\": \"imdb_id\",\n",
    "                                              \"averageRating\": \"avg_rating\",\n",
    "                                              \"numVotes\": \"num_votes\"})\n",
    "\n",
    "# Clean the data by dropping duplicates and setting the index\n",
    "ratings_cols.drop_duplicates(\"imdb_id\", inplace=True)\n",
    "ratings_cols.set_index(\"imdb_id\", inplace=True)"
   ]
  },
  {
   "cell_type": "code",
   "execution_count": null,
   "id": "93afed39",
   "metadata": {},
   "outputs": [],
   "source": [
    "ratings_cols.dropna(how='any')"
   ]
  },
  {
   "cell_type": "code",
   "execution_count": null,
   "id": "166ec882",
   "metadata": {},
   "outputs": [],
   "source": []
  }
 ],
 "metadata": {
  "kernelspec": {
   "display_name": "Python [conda env:PythonData38] *",
   "language": "python",
   "name": "conda-env-PythonData38-py"
  },
  "language_info": {
   "codemirror_mode": {
    "name": "ipython",
    "version": 3
   },
   "file_extension": ".py",
   "mimetype": "text/x-python",
   "name": "python",
   "nbconvert_exporter": "python",
   "pygments_lexer": "ipython3",
   "version": "3.8.12"
  }
 },
 "nbformat": 4,
 "nbformat_minor": 5
}
