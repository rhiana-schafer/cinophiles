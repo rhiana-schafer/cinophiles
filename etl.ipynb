{
 "cells": [
  {
   "cell_type": "code",
   "execution_count": null,
   "id": "56151fb6",
   "metadata": {},
   "outputs": [],
   "source": [
    "# Dependencies\n",
    "import pandas as pd\n",
    "import requests\n",
    "from config import api_key"
   ]
  },
  {
   "cell_type": "code",
   "execution_count": null,
   "id": "d646227c",
   "metadata": {},
   "outputs": [],
   "source": [
    "# Link to metadata csv file to collect imdb ID\n",
    "movies_metadata = \"Resources/movies_metadata.csv\"\n",
    "metadata_df = pd.read_csv(movies_metadata, encoding=\"UTF-8\")"
   ]
  },
  {
   "cell_type": "code",
   "execution_count": null,
   "id": "cacd0e60",
   "metadata": {},
   "outputs": [],
   "source": [
    "# Collect dataset's movie IDs\n",
    "imdb_id_all = metadata_df['imdb_id']"
   ]
  },
  {
   "cell_type": "code",
   "execution_count": null,
   "id": "ea4003d1",
   "metadata": {},
   "outputs": [],
   "source": [
    "# Create lists for final dataset\n",
    "imdb_id = []\n",
    "poster_link = []\n",
    "\n",
    "# Search source website for current movie poster links using IMDB ID\n",
    "for movie in imdb_id_all:\n",
    "    \n",
    "    try:    \n",
    "        url = \"https://api.themoviedb.org/3/find/\" + movie + \"?api_key=\" + api_key + \"&language=en-US&external_source=imdb_id\"\n",
    "        movie_data = requests.get(url, stream=True).json()\n",
    "        \n",
    "        poster = movie_data['movie_results'][0]['poster_path']\n",
    "        poster_link.append(\"https://image.tmdb.org/t/p/w600_and_h900_bestv2/\" + poster)\n",
    "        imdb_id.append(movie)\n",
    "        \n",
    "        print(f\"The poster link for movie ID {movie} is saved.\")\n",
    "                \n",
    "    except:\n",
    "        print(f\"No poster link available for {movie}.\")\n",
    "        pass"
   ]
  },
  {
   "cell_type": "code",
   "execution_count": null,
   "id": "0d27ac06",
   "metadata": {},
   "outputs": [],
   "source": [
    "# Create dataframe to combine lists\n",
    "poster_links = pd.DataFrame(\n",
    "    {'imdb_id': imdb_id,\n",
    "     'poster_link': poster_link\n",
    "    })\n",
    "poster_links"
   ]
  },
  {
   "cell_type": "code",
   "execution_count": null,
   "id": "790992da",
   "metadata": {},
   "outputs": [],
   "source": [
    "# Save dataframe as CSV\n",
    "poster_links.to_csv(\"Resources/poster_links.csv\", index=False, header=True)"
   ]
  }
 ],
 "metadata": {
  "kernelspec": {
   "display_name": "Python [conda env:PythonData38] *",
   "language": "python",
   "name": "conda-env-PythonData38-py"
  },
  "language_info": {
   "codemirror_mode": {
    "name": "ipython",
    "version": 3
   },
   "file_extension": ".py",
   "mimetype": "text/x-python",
   "name": "python",
   "nbconvert_exporter": "python",
   "pygments_lexer": "ipython3",
   "version": "3.8.12"
  }
 },
 "nbformat": 4,
 "nbformat_minor": 5
}
